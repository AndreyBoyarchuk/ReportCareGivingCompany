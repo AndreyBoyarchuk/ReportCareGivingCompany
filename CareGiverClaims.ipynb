{
 "cells": [
  {
   "cell_type": "code",
   "execution_count": 665,
   "id": "75da88ed",
   "metadata": {
    "pycharm": {
     "name": "#%%\n"
    }
   },
   "outputs": [],
   "source": [
    "import pandas as pd\n",
    "import datetime \n",
    "import numpy as np\n",
    "import math"
   ]
  },
  {
   "cell_type": "code",
   "execution_count": 666,
   "id": "4daab5f4",
   "metadata": {
    "pycharm": {
     "name": "#%%\n"
    }
   },
   "outputs": [],
   "source": [
    "df=pd.read_csv('allied2.csv')\n"
   ]
  },
  {
   "cell_type": "code",
   "execution_count": 667,
   "id": "5e8193c4",
   "metadata": {
    "pycharm": {
     "name": "#%%\n"
    }
   },
   "outputs": [],
   "source": [
    "my_list = df.columns.values.tolist()"
   ]
  },
  {
   "cell_type": "code",
   "execution_count": 668,
   "id": "17a78631",
   "metadata": {
    "pycharm": {
     "name": "#%%\n"
    }
   },
   "outputs": [
    {
     "name": "stdout",
     "output_type": "stream",
     "text": [
      "Agency Name\n",
      "Employee Last Name\n",
      "Employee First Name\n",
      "Participant Last Name\n",
      "Participant First Name\n",
      "Participant Timezone\n",
      "Scheduled Visit Start\n",
      "Scheduled Visit End\n",
      "Actual Visit Start\n",
      "Actual Visit End\n",
      "Notes\n",
      "Status \n"
     ]
    }
   ],
   "source": [
    "for i in my_list: \n",
    "    print(i)"
   ]
  },
  {
   "cell_type": "code",
   "execution_count": 669,
   "outputs": [
    {
     "data": {
      "text/plain": "dtype('<M8[ns]')"
     },
     "execution_count": 669,
     "metadata": {},
     "output_type": "execute_result"
    }
   ],
   "source": [
    "df['Scheduled Visit End'] = df['Scheduled Visit End'].astype('datetime64[ns]')\n",
    "df['Scheduled Visit Start'] = df['Scheduled Visit Start'].astype('datetime64[ns]')\n",
    "df[\"Scheduled Visit Start\"].dtype"
   ],
   "metadata": {
    "collapsed": false,
    "pycharm": {
     "name": "#%%\n"
    }
   }
  },
  {
   "cell_type": "code",
   "execution_count": 670,
   "outputs": [
    {
     "data": {
      "text/plain": "dtype('<M8[ns]')"
     },
     "execution_count": 670,
     "metadata": {},
     "output_type": "execute_result"
    }
   ],
   "source": [
    "df['SVS'] = df['Scheduled Visit Start']\n",
    "df['SVE'] = df['Scheduled Visit End']\n",
    "df[\"SVS\"].dtype"
   ],
   "metadata": {
    "collapsed": false,
    "pycharm": {
     "name": "#%%\n"
    }
   }
  },
  {
   "cell_type": "code",
   "execution_count": 671,
   "outputs": [],
   "source": [
    "df=df.sort_values(by=['Scheduled Visit Start','Participant First Name'])"
   ],
   "metadata": {
    "collapsed": false,
    "pycharm": {
     "name": "#%%\n"
    }
   }
  },
  {
   "cell_type": "code",
   "execution_count": 672,
   "outputs": [],
   "source": [
    "df['DayOftheWeek'] = df['Scheduled Visit Start'].dt.dayofweek\n",
    "df[\"WeekOfyear\"] = df['Scheduled Visit Start'].dt.isocalendar().week\n",
    "df[\"Day\"] = df['Scheduled Visit Start'].dt.day\n",
    "df['Month'] = df['Scheduled Visit Start'].dt.month\n",
    "df['Year'] = df['Scheduled Visit Start'].dt.year\n"
   ],
   "metadata": {
    "collapsed": false,
    "pycharm": {
     "name": "#%%\n"
    }
   }
  },
  {
   "cell_type": "code",
   "execution_count": 673,
   "outputs": [],
   "source": [
    "df['hourDigit'] = df['Scheduled Visit Start'].dt.hour\n",
    "df['Actual Visit Start'] = df['Actual Visit Start'].astype('datetime64[ns]')\n",
    "df['Actual Visit End'] = df['Actual Visit End'].astype('datetime64[ns]')\n",
    "df['SchedMin']=df['Scheduled Visit End']-df['Scheduled Visit Start']\n",
    "df[\"SchedMin\"] = df[\"SchedMin\"].to_numpy()/np.timedelta64(1, 'm')\n",
    "df['AcctMIn']=df['Actual Visit End']-df['Actual Visit Start']\n",
    "df['AcctMIn'] = df['AcctMIn'].to_numpy()/np.timedelta64(1, 'm')\n",
    "df['StartDif']=df['Actual Visit Start']-df['Scheduled Visit Start']\n",
    "df[\"StartDif\"] = df[\"StartDif\"].to_numpy()/np.timedelta64(1, 'm')\n",
    "df['EndDif']=(df['Actual Visit End']-df['Scheduled Visit End'])\n",
    "df[\"EndDif\"] = df[\"EndDif\"].to_numpy()/np.timedelta64(1, 'm')\n",
    "df['HoursDif']=(df['AcctMIn']-df['SchedMin'])/60.00\n",
    "df['Untis']=df['SchedMin']/15\n",
    "df['Difference']=df['AcctMIn']-df['SchedMin']"
   ],
   "metadata": {
    "collapsed": false,
    "pycharm": {
     "name": "#%%\n"
    }
   }
  },
  {
   "cell_type": "code",
   "execution_count": 674,
   "outputs": [],
   "source": [
    "df=df.sort_values(by=['Scheduled Visit Start'])\n",
    "df['Code']=+df['hourDigit'].map(str)+\"_\"+df['Employee First Name'].map(str)+\"_\"+df['Participant First Name'].map(str)\n",
    "df=df.sort_values(by=['Code','Scheduled Visit Start'])"
   ],
   "metadata": {
    "collapsed": false,
    "pycharm": {
     "name": "#%%\n"
    }
   }
  },
  {
   "cell_type": "code",
   "execution_count": 675,
   "outputs": [],
   "source": [
    "df['Timelaps']=df[\"Scheduled Visit Start\"].diff()\n",
    "df['Timelaps'].diff().apply(lambda x: x/np.timedelta64(1, 'D')).fillna(0).astype('int64')\n",
    "df['Timelaps'] = df['Timelaps'].to_numpy()/np.timedelta64(1, 'D')\n",
    "def truncf(num):\n",
    "    if num == None:\n",
    "        num1=0\n",
    "    else:\n",
    "        num1=float(num)\n",
    "    return num1\n",
    "df['Timelaps'] = df['Timelaps'].apply(truncf).fillna(0)\n",
    "def trunci(num):\n",
    "    num1=int(num)\n",
    "    return num1\n",
    "df['Timelaps'] = df['Timelaps'].apply(trunci)\n",
    "df.loc[df['Timelaps'] <=1,\"Split\"]=0\n",
    "df.loc[df['Timelaps'] >1,\"Split\"]=1\n",
    "df[\"Split\"]=df[\"Split\"].astype(int)\n",
    "df['split_csum'] = df.groupby(['WeekOfyear'])['Split'].cumsum()"
   ],
   "metadata": {
    "collapsed": false,
    "pycharm": {
     "name": "#%%\n"
    }
   }
  },
  {
   "cell_type": "code",
   "execution_count": 676,
   "outputs": [
    {
     "data": {
      "text/plain": "                                  Notes  DayOftheWeek  WeekOfyear   Day  \\\nParticipant First Name hourDigit                                          \nNouri                  5            0.0           222        2007  1675   \n                       8            0.0           241         919   667   \nZainab                 13           0.0           213         723   620   \n                       17           0.0           230        2174  1798   \n\n                                  Month    Year  SchedMin       AcctMIn  \\\nParticipant First Name hourDigit                                          \nNouri                  5            511  218350   29820.0  52992.150000   \n                       8            213   88957   13200.0  17500.133333   \nZainab                 13           176   78850   17640.0  24322.166667   \n                       17           551  230479   27360.0  47655.050000   \n\n                                    StartDif        EndDif    HoursDif  \\\nParticipant First Name hourDigit                                         \nNouri                  5          -47.450000  23124.700000  386.202500   \n                       8           44.166667   4344.300000   71.668889   \nZainab                 13         106.750000   6788.916667  111.369444   \n                       17         472.716667  20767.766667  338.250833   \n\n                                   Untis    Difference  Timelaps  Split  \\\nParticipant First Name hourDigit                                          \nNouri                  5          1988.0  23172.150000         0     29   \n                       8           880.0   4300.133333         2     22   \nZainab                 13         1176.0   6682.166667       168     21   \n                       17         1824.0  20295.050000         0     26   \n\n                                  split_csum  \nParticipant First Name hourDigit              \nNouri                  5                 312  \n                       8                 176  \nZainab                 13                 37  \n                       17                210  ",
      "text/html": "<div>\n<style scoped>\n    .dataframe tbody tr th:only-of-type {\n        vertical-align: middle;\n    }\n\n    .dataframe tbody tr th {\n        vertical-align: top;\n    }\n\n    .dataframe thead th {\n        text-align: right;\n    }\n</style>\n<table border=\"1\" class=\"dataframe\">\n  <thead>\n    <tr style=\"text-align: right;\">\n      <th></th>\n      <th></th>\n      <th>Notes</th>\n      <th>DayOftheWeek</th>\n      <th>WeekOfyear</th>\n      <th>Day</th>\n      <th>Month</th>\n      <th>Year</th>\n      <th>SchedMin</th>\n      <th>AcctMIn</th>\n      <th>StartDif</th>\n      <th>EndDif</th>\n      <th>HoursDif</th>\n      <th>Untis</th>\n      <th>Difference</th>\n      <th>Timelaps</th>\n      <th>Split</th>\n      <th>split_csum</th>\n    </tr>\n    <tr>\n      <th>Participant First Name</th>\n      <th>hourDigit</th>\n      <th></th>\n      <th></th>\n      <th></th>\n      <th></th>\n      <th></th>\n      <th></th>\n      <th></th>\n      <th></th>\n      <th></th>\n      <th></th>\n      <th></th>\n      <th></th>\n      <th></th>\n      <th></th>\n      <th></th>\n      <th></th>\n    </tr>\n  </thead>\n  <tbody>\n    <tr>\n      <th rowspan=\"2\" valign=\"top\">Nouri</th>\n      <th>5</th>\n      <td>0.0</td>\n      <td>222</td>\n      <td>2007</td>\n      <td>1675</td>\n      <td>511</td>\n      <td>218350</td>\n      <td>29820.0</td>\n      <td>52992.150000</td>\n      <td>-47.450000</td>\n      <td>23124.700000</td>\n      <td>386.202500</td>\n      <td>1988.0</td>\n      <td>23172.150000</td>\n      <td>0</td>\n      <td>29</td>\n      <td>312</td>\n    </tr>\n    <tr>\n      <th>8</th>\n      <td>0.0</td>\n      <td>241</td>\n      <td>919</td>\n      <td>667</td>\n      <td>213</td>\n      <td>88957</td>\n      <td>13200.0</td>\n      <td>17500.133333</td>\n      <td>44.166667</td>\n      <td>4344.300000</td>\n      <td>71.668889</td>\n      <td>880.0</td>\n      <td>4300.133333</td>\n      <td>2</td>\n      <td>22</td>\n      <td>176</td>\n    </tr>\n    <tr>\n      <th rowspan=\"2\" valign=\"top\">Zainab</th>\n      <th>13</th>\n      <td>0.0</td>\n      <td>213</td>\n      <td>723</td>\n      <td>620</td>\n      <td>176</td>\n      <td>78850</td>\n      <td>17640.0</td>\n      <td>24322.166667</td>\n      <td>106.750000</td>\n      <td>6788.916667</td>\n      <td>111.369444</td>\n      <td>1176.0</td>\n      <td>6682.166667</td>\n      <td>168</td>\n      <td>21</td>\n      <td>37</td>\n    </tr>\n    <tr>\n      <th>17</th>\n      <td>0.0</td>\n      <td>230</td>\n      <td>2174</td>\n      <td>1798</td>\n      <td>551</td>\n      <td>230479</td>\n      <td>27360.0</td>\n      <td>47655.050000</td>\n      <td>472.716667</td>\n      <td>20767.766667</td>\n      <td>338.250833</td>\n      <td>1824.0</td>\n      <td>20295.050000</td>\n      <td>0</td>\n      <td>26</td>\n      <td>210</td>\n    </tr>\n  </tbody>\n</table>\n</div>"
     },
     "execution_count": 676,
     "metadata": {},
     "output_type": "execute_result"
    }
   ],
   "source": [
    "dfbyparticapant=df.groupby(['Participant First Name','hourDigit']).sum()\n",
    "dfbyparticapant"
   ],
   "metadata": {
    "collapsed": false,
    "pycharm": {
     "name": "#%%\n"
    }
   }
  },
  {
   "cell_type": "code",
   "execution_count": 677,
   "outputs": [],
   "source": [
    "def wholeuntis(mins):\n",
    "    remainder= (mins%60)\n",
    "    hours=(mins-remainder)/60\n",
    "    if remainder in range(6, 11):\n",
    "        units = 1\n",
    "    elif remainder in range(12, 27):\n",
    "        units = 2\n",
    "    elif remainder in range(28, 43):\n",
    "        units = 3\n",
    "    elif remainder in range(44, 60):\n",
    "        units = 4\n",
    "    else:\n",
    "        units = 0\n",
    "    return (hours*4)+units\n",
    "df['Whnts']=df['Difference'].apply(wholeuntis).astype(int)"
   ],
   "metadata": {
    "collapsed": false,
    "pycharm": {
     "name": "#%%\n"
    }
   }
  },
  {
   "cell_type": "code",
   "execution_count": 678,
   "outputs": [],
   "source": [
    "df['RolingSplit']=df['Split'].rolling(1).mean()"
   ],
   "metadata": {
    "collapsed": false,
    "pycharm": {
     "name": "#%%\n"
    }
   }
  },
  {
   "cell_type": "code",
   "execution_count": 679,
   "outputs": [],
   "source": [
    "df['sftWOY']=df[\"WeekOfyear\"].shift(1)"
   ],
   "metadata": {
    "collapsed": false,
    "pycharm": {
     "name": "#%%\n"
    }
   }
  },
  {
   "cell_type": "code",
   "execution_count": 680,
   "outputs": [],
   "source": [
    "df['Splitindc']=df[\"WeekOfyear\"]-df['sftWOY']+df['Split']"
   ],
   "metadata": {
    "collapsed": false,
    "pycharm": {
     "name": "#%%\n"
    }
   }
  },
  {
   "cell_type": "code",
   "execution_count": 681,
   "outputs": [],
   "source": [
    "df['Count']=1"
   ],
   "metadata": {
    "collapsed": false,
    "pycharm": {
     "name": "#%%\n"
    }
   }
  },
  {
   "cell_type": "code",
   "execution_count": 682,
   "outputs": [],
   "source": [
    "df['Grouping']=df[\"Month\"].map(str)+\"_\"+df[\"WeekOfyear\"].map(str)+\"_\"+df[\"split_csum\"].map(str)"
   ],
   "metadata": {
    "collapsed": false,
    "pycharm": {
     "name": "#%%\n"
    }
   }
  },
  {
   "cell_type": "code",
   "execution_count": 683,
   "outputs": [],
   "source": [
    "df['MaxSVS'] = df.groupby('Grouping')[\"Day\"].transform('max')\n",
    "df['MinSVS'] = df.groupby('Grouping')[\"Day\"].transform('min')"
   ],
   "metadata": {
    "collapsed": false,
    "pycharm": {
     "name": "#%%\n"
    }
   }
  },
  {
   "cell_type": "code",
   "execution_count": 684,
   "outputs": [],
   "source": [
    "df1=df"
   ],
   "metadata": {
    "collapsed": false,
    "pycharm": {
     "name": "#%%\n"
    }
   }
  },
  {
   "cell_type": "code",
   "execution_count": 685,
   "outputs": [],
   "source": [
    "df['StartDate']=df[\"Month\"].map(str)+\"/\"+df[\"MinSVS\"].map(str)+\"/\"+df[\"Year\"].map(str)\n",
    "df['EndDate']=df[\"Month\"].map(str)+\"/\"+df[\"MaxSVS\"].map(str)+\"/\"+df[\"Year\"].map(str)"
   ],
   "metadata": {
    "collapsed": false,
    "pycharm": {
     "name": "#%%\n"
    }
   }
  },
  {
   "cell_type": "code",
   "execution_count": 685,
   "outputs": [],
   "source": [],
   "metadata": {
    "collapsed": false,
    "pycharm": {
     "name": "#%%\n"
    }
   }
  },
  {
   "cell_type": "code",
   "execution_count": 686,
   "outputs": [
    {
     "data": {
      "text/plain": "                  Code Grouping   StartDate     EndDate  Notes  DayOftheWeek  \\\n0    13_Maitham_Zainab  11_45_0  11/13/2021  11/14/2021    0.0            11   \n1    13_Maitham_Zainab  12_48_1   12/4/2021   12/4/2021    0.0             5   \n2    13_Maitham_Zainab  12_49_1  12/11/2021  12/12/2021    0.0            11   \n3    13_Maitham_Zainab  12_50_1  12/18/2021  12/19/2021    0.0            11   \n4    13_Maitham_Zainab  12_51_1  12/25/2021  12/25/2021    0.0             5   \n..                 ...      ...         ...         ...    ...           ...   \n103    8_Maitham_Nouri   4_13_4    4/2/2022    4/3/2022    0.0            11   \n104    8_Maitham_Nouri   4_14_4    4/9/2022   4/10/2022    0.0            11   \n105    8_Maitham_Nouri   4_15_4   4/16/2022   4/17/2022    0.0            11   \n106    8_Maitham_Nouri   4_16_4   4/23/2022   4/24/2022    0.0            11   \n107    8_Maitham_Nouri   4_17_4   4/30/2022   4/30/2022    0.0             5   \n\n     WeekOfyear  Day  Month  Year  ...  Timelaps  Split  split_csum  Whnts  \\\n0            90   27     22  4042  ...         1      0           0      0   \n1            48    4     12  2021  ...        20      1           1      0   \n2            98   23     24  4042  ...         8      1           2      0   \n3           100   37     24  4042  ...         7      1           2     32   \n4            51   25     12  2021  ...         6      1           1     -4   \n..          ...  ...    ...   ...  ...       ...    ...         ...    ...   \n103          26    5      8  4044  ...         7      1           8     72   \n104          28   19      8  4044  ...         7      1           8      0   \n105          30   33      8  4044  ...         7      1           8     -4   \n106          32   47      8  4044  ...         7      1           8     -4   \n107          17   30      4  2022  ...         6      1           4     -4   \n\n     RolingSplit  sftWOY  Splitindc  Count  MaxSVS  MinSVS  \n0            0.0      45          0      2      28      26  \n1            1.0      45          4      1       4       4  \n2            1.0      97          2      2      24      22  \n3            1.0      99          2      2      38      36  \n4            1.0      50          2      1      25      25  \n..           ...     ...        ...    ...     ...     ...  \n103          1.0      25          2      2       6       4  \n104          1.0      27          2      2      20      18  \n105          1.0      29          2      2      34      32  \n106          1.0      31          2      2      48      46  \n107          1.0      16          2      1      30      30  \n\n[108 rows x 28 columns]",
      "text/html": "<div>\n<style scoped>\n    .dataframe tbody tr th:only-of-type {\n        vertical-align: middle;\n    }\n\n    .dataframe tbody tr th {\n        vertical-align: top;\n    }\n\n    .dataframe thead th {\n        text-align: right;\n    }\n</style>\n<table border=\"1\" class=\"dataframe\">\n  <thead>\n    <tr style=\"text-align: right;\">\n      <th></th>\n      <th>Code</th>\n      <th>Grouping</th>\n      <th>StartDate</th>\n      <th>EndDate</th>\n      <th>Notes</th>\n      <th>DayOftheWeek</th>\n      <th>WeekOfyear</th>\n      <th>Day</th>\n      <th>Month</th>\n      <th>Year</th>\n      <th>...</th>\n      <th>Timelaps</th>\n      <th>Split</th>\n      <th>split_csum</th>\n      <th>Whnts</th>\n      <th>RolingSplit</th>\n      <th>sftWOY</th>\n      <th>Splitindc</th>\n      <th>Count</th>\n      <th>MaxSVS</th>\n      <th>MinSVS</th>\n    </tr>\n  </thead>\n  <tbody>\n    <tr>\n      <th>0</th>\n      <td>13_Maitham_Zainab</td>\n      <td>11_45_0</td>\n      <td>11/13/2021</td>\n      <td>11/14/2021</td>\n      <td>0.0</td>\n      <td>11</td>\n      <td>90</td>\n      <td>27</td>\n      <td>22</td>\n      <td>4042</td>\n      <td>...</td>\n      <td>1</td>\n      <td>0</td>\n      <td>0</td>\n      <td>0</td>\n      <td>0.0</td>\n      <td>45</td>\n      <td>0</td>\n      <td>2</td>\n      <td>28</td>\n      <td>26</td>\n    </tr>\n    <tr>\n      <th>1</th>\n      <td>13_Maitham_Zainab</td>\n      <td>12_48_1</td>\n      <td>12/4/2021</td>\n      <td>12/4/2021</td>\n      <td>0.0</td>\n      <td>5</td>\n      <td>48</td>\n      <td>4</td>\n      <td>12</td>\n      <td>2021</td>\n      <td>...</td>\n      <td>20</td>\n      <td>1</td>\n      <td>1</td>\n      <td>0</td>\n      <td>1.0</td>\n      <td>45</td>\n      <td>4</td>\n      <td>1</td>\n      <td>4</td>\n      <td>4</td>\n    </tr>\n    <tr>\n      <th>2</th>\n      <td>13_Maitham_Zainab</td>\n      <td>12_49_1</td>\n      <td>12/11/2021</td>\n      <td>12/12/2021</td>\n      <td>0.0</td>\n      <td>11</td>\n      <td>98</td>\n      <td>23</td>\n      <td>24</td>\n      <td>4042</td>\n      <td>...</td>\n      <td>8</td>\n      <td>1</td>\n      <td>2</td>\n      <td>0</td>\n      <td>1.0</td>\n      <td>97</td>\n      <td>2</td>\n      <td>2</td>\n      <td>24</td>\n      <td>22</td>\n    </tr>\n    <tr>\n      <th>3</th>\n      <td>13_Maitham_Zainab</td>\n      <td>12_50_1</td>\n      <td>12/18/2021</td>\n      <td>12/19/2021</td>\n      <td>0.0</td>\n      <td>11</td>\n      <td>100</td>\n      <td>37</td>\n      <td>24</td>\n      <td>4042</td>\n      <td>...</td>\n      <td>7</td>\n      <td>1</td>\n      <td>2</td>\n      <td>32</td>\n      <td>1.0</td>\n      <td>99</td>\n      <td>2</td>\n      <td>2</td>\n      <td>38</td>\n      <td>36</td>\n    </tr>\n    <tr>\n      <th>4</th>\n      <td>13_Maitham_Zainab</td>\n      <td>12_51_1</td>\n      <td>12/25/2021</td>\n      <td>12/25/2021</td>\n      <td>0.0</td>\n      <td>5</td>\n      <td>51</td>\n      <td>25</td>\n      <td>12</td>\n      <td>2021</td>\n      <td>...</td>\n      <td>6</td>\n      <td>1</td>\n      <td>1</td>\n      <td>-4</td>\n      <td>1.0</td>\n      <td>50</td>\n      <td>2</td>\n      <td>1</td>\n      <td>25</td>\n      <td>25</td>\n    </tr>\n    <tr>\n      <th>...</th>\n      <td>...</td>\n      <td>...</td>\n      <td>...</td>\n      <td>...</td>\n      <td>...</td>\n      <td>...</td>\n      <td>...</td>\n      <td>...</td>\n      <td>...</td>\n      <td>...</td>\n      <td>...</td>\n      <td>...</td>\n      <td>...</td>\n      <td>...</td>\n      <td>...</td>\n      <td>...</td>\n      <td>...</td>\n      <td>...</td>\n      <td>...</td>\n      <td>...</td>\n      <td>...</td>\n    </tr>\n    <tr>\n      <th>103</th>\n      <td>8_Maitham_Nouri</td>\n      <td>4_13_4</td>\n      <td>4/2/2022</td>\n      <td>4/3/2022</td>\n      <td>0.0</td>\n      <td>11</td>\n      <td>26</td>\n      <td>5</td>\n      <td>8</td>\n      <td>4044</td>\n      <td>...</td>\n      <td>7</td>\n      <td>1</td>\n      <td>8</td>\n      <td>72</td>\n      <td>1.0</td>\n      <td>25</td>\n      <td>2</td>\n      <td>2</td>\n      <td>6</td>\n      <td>4</td>\n    </tr>\n    <tr>\n      <th>104</th>\n      <td>8_Maitham_Nouri</td>\n      <td>4_14_4</td>\n      <td>4/9/2022</td>\n      <td>4/10/2022</td>\n      <td>0.0</td>\n      <td>11</td>\n      <td>28</td>\n      <td>19</td>\n      <td>8</td>\n      <td>4044</td>\n      <td>...</td>\n      <td>7</td>\n      <td>1</td>\n      <td>8</td>\n      <td>0</td>\n      <td>1.0</td>\n      <td>27</td>\n      <td>2</td>\n      <td>2</td>\n      <td>20</td>\n      <td>18</td>\n    </tr>\n    <tr>\n      <th>105</th>\n      <td>8_Maitham_Nouri</td>\n      <td>4_15_4</td>\n      <td>4/16/2022</td>\n      <td>4/17/2022</td>\n      <td>0.0</td>\n      <td>11</td>\n      <td>30</td>\n      <td>33</td>\n      <td>8</td>\n      <td>4044</td>\n      <td>...</td>\n      <td>7</td>\n      <td>1</td>\n      <td>8</td>\n      <td>-4</td>\n      <td>1.0</td>\n      <td>29</td>\n      <td>2</td>\n      <td>2</td>\n      <td>34</td>\n      <td>32</td>\n    </tr>\n    <tr>\n      <th>106</th>\n      <td>8_Maitham_Nouri</td>\n      <td>4_16_4</td>\n      <td>4/23/2022</td>\n      <td>4/24/2022</td>\n      <td>0.0</td>\n      <td>11</td>\n      <td>32</td>\n      <td>47</td>\n      <td>8</td>\n      <td>4044</td>\n      <td>...</td>\n      <td>7</td>\n      <td>1</td>\n      <td>8</td>\n      <td>-4</td>\n      <td>1.0</td>\n      <td>31</td>\n      <td>2</td>\n      <td>2</td>\n      <td>48</td>\n      <td>46</td>\n    </tr>\n    <tr>\n      <th>107</th>\n      <td>8_Maitham_Nouri</td>\n      <td>4_17_4</td>\n      <td>4/30/2022</td>\n      <td>4/30/2022</td>\n      <td>0.0</td>\n      <td>5</td>\n      <td>17</td>\n      <td>30</td>\n      <td>4</td>\n      <td>2022</td>\n      <td>...</td>\n      <td>6</td>\n      <td>1</td>\n      <td>4</td>\n      <td>-4</td>\n      <td>1.0</td>\n      <td>16</td>\n      <td>2</td>\n      <td>1</td>\n      <td>30</td>\n      <td>30</td>\n    </tr>\n  </tbody>\n</table>\n<p>108 rows × 28 columns</p>\n</div>"
     },
     "execution_count": 686,
     "metadata": {},
     "output_type": "execute_result"
    }
   ],
   "source": [
    "g1=df1.groupby(['Code','Grouping','StartDate','EndDate'],as_index=False).sum()\n",
    "g1.add_suffix('_Count').reset_index()\n",
    "g1"
   ],
   "metadata": {
    "collapsed": false,
    "pycharm": {
     "name": "#%%\n"
    }
   }
  },
  {
   "cell_type": "code",
   "execution_count": 687,
   "outputs": [
    {
     "name": "stdout",
     "output_type": "stream",
     "text": [
      "<class 'pandas.core.frame.DataFrame'>\n",
      "RangeIndex: 108 entries, 0 to 107\n",
      "Data columns (total 28 columns):\n",
      " #   Column        Non-Null Count  Dtype  \n",
      "---  ------        --------------  -----  \n",
      " 0   Code          108 non-null    object \n",
      " 1   Grouping      108 non-null    object \n",
      " 2   StartDate     108 non-null    object \n",
      " 3   EndDate       108 non-null    object \n",
      " 4   Notes         108 non-null    float64\n",
      " 5   DayOftheWeek  108 non-null    int64  \n",
      " 6   WeekOfyear    108 non-null    Int64  \n",
      " 7   Day           108 non-null    int64  \n",
      " 8   Month         108 non-null    int64  \n",
      " 9   Year          108 non-null    int64  \n",
      " 10  hourDigit     108 non-null    int64  \n",
      " 11  SchedMin      108 non-null    float64\n",
      " 12  AcctMIn       108 non-null    float64\n",
      " 13  StartDif      108 non-null    float64\n",
      " 14  EndDif        108 non-null    float64\n",
      " 15  HoursDif      108 non-null    float64\n",
      " 16  Untis         108 non-null    float64\n",
      " 17  Difference    108 non-null    float64\n",
      " 18  Timelaps      108 non-null    int64  \n",
      " 19  Split         108 non-null    int32  \n",
      " 20  split_csum    108 non-null    int32  \n",
      " 21  Whnts         108 non-null    int32  \n",
      " 22  RolingSplit   108 non-null    float64\n",
      " 23  sftWOY        108 non-null    Int64  \n",
      " 24  Splitindc     108 non-null    Int64  \n",
      " 25  Count         108 non-null    int64  \n",
      " 26  MaxSVS        108 non-null    int64  \n",
      " 27  MinSVS        108 non-null    int64  \n",
      "dtypes: Int64(3), float64(9), int32(3), int64(9), object(4)\n",
      "memory usage: 22.8+ KB\n"
     ]
    }
   ],
   "source": [
    "g1.info()"
   ],
   "metadata": {
    "collapsed": false,
    "pycharm": {
     "name": "#%%\n"
    }
   }
  },
  {
   "cell_type": "code",
   "execution_count": 688,
   "outputs": [],
   "source": [
    "g2=g1[['Code','Grouping','StartDate','EndDate','Untis']]"
   ],
   "metadata": {
    "collapsed": false,
    "pycharm": {
     "name": "#%%\n"
    }
   }
  },
  {
   "cell_type": "code",
   "execution_count": 689,
   "outputs": [
    {
     "data": {
      "text/plain": "                  Code Grouping   StartDate     EndDate  Untis\n0    13_Maitham_Zainab  11_45_0  11/13/2021  11/14/2021   60.0\n1    13_Maitham_Zainab  12_48_1   12/4/2021   12/4/2021   32.0\n2    13_Maitham_Zainab  12_49_1  12/11/2021  12/12/2021   60.0\n3    13_Maitham_Zainab  12_50_1  12/18/2021  12/19/2021   60.0\n4    13_Maitham_Zainab  12_51_1  12/25/2021  12/25/2021   32.0\n..                 ...      ...         ...         ...    ...\n103    8_Maitham_Nouri   4_13_4    4/2/2022    4/3/2022   40.0\n104    8_Maitham_Nouri   4_14_4    4/9/2022   4/10/2022   40.0\n105    8_Maitham_Nouri   4_15_4   4/16/2022   4/17/2022   40.0\n106    8_Maitham_Nouri   4_16_4   4/23/2022   4/24/2022   40.0\n107    8_Maitham_Nouri   4_17_4   4/30/2022   4/30/2022   20.0\n\n[108 rows x 5 columns]",
      "text/html": "<div>\n<style scoped>\n    .dataframe tbody tr th:only-of-type {\n        vertical-align: middle;\n    }\n\n    .dataframe tbody tr th {\n        vertical-align: top;\n    }\n\n    .dataframe thead th {\n        text-align: right;\n    }\n</style>\n<table border=\"1\" class=\"dataframe\">\n  <thead>\n    <tr style=\"text-align: right;\">\n      <th></th>\n      <th>Code</th>\n      <th>Grouping</th>\n      <th>StartDate</th>\n      <th>EndDate</th>\n      <th>Untis</th>\n    </tr>\n  </thead>\n  <tbody>\n    <tr>\n      <th>0</th>\n      <td>13_Maitham_Zainab</td>\n      <td>11_45_0</td>\n      <td>11/13/2021</td>\n      <td>11/14/2021</td>\n      <td>60.0</td>\n    </tr>\n    <tr>\n      <th>1</th>\n      <td>13_Maitham_Zainab</td>\n      <td>12_48_1</td>\n      <td>12/4/2021</td>\n      <td>12/4/2021</td>\n      <td>32.0</td>\n    </tr>\n    <tr>\n      <th>2</th>\n      <td>13_Maitham_Zainab</td>\n      <td>12_49_1</td>\n      <td>12/11/2021</td>\n      <td>12/12/2021</td>\n      <td>60.0</td>\n    </tr>\n    <tr>\n      <th>3</th>\n      <td>13_Maitham_Zainab</td>\n      <td>12_50_1</td>\n      <td>12/18/2021</td>\n      <td>12/19/2021</td>\n      <td>60.0</td>\n    </tr>\n    <tr>\n      <th>4</th>\n      <td>13_Maitham_Zainab</td>\n      <td>12_51_1</td>\n      <td>12/25/2021</td>\n      <td>12/25/2021</td>\n      <td>32.0</td>\n    </tr>\n    <tr>\n      <th>...</th>\n      <td>...</td>\n      <td>...</td>\n      <td>...</td>\n      <td>...</td>\n      <td>...</td>\n    </tr>\n    <tr>\n      <th>103</th>\n      <td>8_Maitham_Nouri</td>\n      <td>4_13_4</td>\n      <td>4/2/2022</td>\n      <td>4/3/2022</td>\n      <td>40.0</td>\n    </tr>\n    <tr>\n      <th>104</th>\n      <td>8_Maitham_Nouri</td>\n      <td>4_14_4</td>\n      <td>4/9/2022</td>\n      <td>4/10/2022</td>\n      <td>40.0</td>\n    </tr>\n    <tr>\n      <th>105</th>\n      <td>8_Maitham_Nouri</td>\n      <td>4_15_4</td>\n      <td>4/16/2022</td>\n      <td>4/17/2022</td>\n      <td>40.0</td>\n    </tr>\n    <tr>\n      <th>106</th>\n      <td>8_Maitham_Nouri</td>\n      <td>4_16_4</td>\n      <td>4/23/2022</td>\n      <td>4/24/2022</td>\n      <td>40.0</td>\n    </tr>\n    <tr>\n      <th>107</th>\n      <td>8_Maitham_Nouri</td>\n      <td>4_17_4</td>\n      <td>4/30/2022</td>\n      <td>4/30/2022</td>\n      <td>20.0</td>\n    </tr>\n  </tbody>\n</table>\n<p>108 rows × 5 columns</p>\n</div>"
     },
     "execution_count": 689,
     "metadata": {},
     "output_type": "execute_result"
    }
   ],
   "source": [
    "g2"
   ],
   "metadata": {
    "collapsed": false,
    "pycharm": {
     "name": "#%%\n"
    }
   }
  },
  {
   "cell_type": "code",
   "execution_count": 690,
   "outputs": [],
   "source": [
    "g2.to_csv('ouput2.csv')"
   ],
   "metadata": {
    "collapsed": false,
    "pycharm": {
     "name": "#%%\n"
    }
   }
  },
  {
   "cell_type": "code",
   "execution_count": 691,
   "outputs": [
    {
     "ename": "PermissionError",
     "evalue": "[Errno 13] Permission denied: 'output.csv'",
     "output_type": "error",
     "traceback": [
      "\u001B[1;31m---------------------------------------------------------------------------\u001B[0m",
      "\u001B[1;31mPermissionError\u001B[0m                           Traceback (most recent call last)",
      "Input \u001B[1;32mIn [691]\u001B[0m, in \u001B[0;36m<cell line: 1>\u001B[1;34m()\u001B[0m\n\u001B[1;32m----> 1\u001B[0m \u001B[43mdf\u001B[49m\u001B[38;5;241;43m.\u001B[39;49m\u001B[43mto_csv\u001B[49m\u001B[43m(\u001B[49m\u001B[38;5;124;43m'\u001B[39;49m\u001B[38;5;124;43moutput.csv\u001B[39;49m\u001B[38;5;124;43m'\u001B[39;49m\u001B[43m)\u001B[49m\n",
      "File \u001B[1;32m~\\PycharmProjects\\data_classes\\dtan\\lib\\site-packages\\pandas\\core\\generic.py:3551\u001B[0m, in \u001B[0;36mNDFrame.to_csv\u001B[1;34m(self, path_or_buf, sep, na_rep, float_format, columns, header, index, index_label, mode, encoding, compression, quoting, quotechar, line_terminator, chunksize, date_format, doublequote, escapechar, decimal, errors, storage_options)\u001B[0m\n\u001B[0;32m   3540\u001B[0m df \u001B[38;5;241m=\u001B[39m \u001B[38;5;28mself\u001B[39m \u001B[38;5;28;01mif\u001B[39;00m \u001B[38;5;28misinstance\u001B[39m(\u001B[38;5;28mself\u001B[39m, ABCDataFrame) \u001B[38;5;28;01melse\u001B[39;00m \u001B[38;5;28mself\u001B[39m\u001B[38;5;241m.\u001B[39mto_frame()\n\u001B[0;32m   3542\u001B[0m formatter \u001B[38;5;241m=\u001B[39m DataFrameFormatter(\n\u001B[0;32m   3543\u001B[0m     frame\u001B[38;5;241m=\u001B[39mdf,\n\u001B[0;32m   3544\u001B[0m     header\u001B[38;5;241m=\u001B[39mheader,\n\u001B[1;32m   (...)\u001B[0m\n\u001B[0;32m   3548\u001B[0m     decimal\u001B[38;5;241m=\u001B[39mdecimal,\n\u001B[0;32m   3549\u001B[0m )\n\u001B[1;32m-> 3551\u001B[0m \u001B[38;5;28;01mreturn\u001B[39;00m \u001B[43mDataFrameRenderer\u001B[49m\u001B[43m(\u001B[49m\u001B[43mformatter\u001B[49m\u001B[43m)\u001B[49m\u001B[38;5;241;43m.\u001B[39;49m\u001B[43mto_csv\u001B[49m\u001B[43m(\u001B[49m\n\u001B[0;32m   3552\u001B[0m \u001B[43m    \u001B[49m\u001B[43mpath_or_buf\u001B[49m\u001B[43m,\u001B[49m\n\u001B[0;32m   3553\u001B[0m \u001B[43m    \u001B[49m\u001B[43mline_terminator\u001B[49m\u001B[38;5;241;43m=\u001B[39;49m\u001B[43mline_terminator\u001B[49m\u001B[43m,\u001B[49m\n\u001B[0;32m   3554\u001B[0m \u001B[43m    \u001B[49m\u001B[43msep\u001B[49m\u001B[38;5;241;43m=\u001B[39;49m\u001B[43msep\u001B[49m\u001B[43m,\u001B[49m\n\u001B[0;32m   3555\u001B[0m \u001B[43m    \u001B[49m\u001B[43mencoding\u001B[49m\u001B[38;5;241;43m=\u001B[39;49m\u001B[43mencoding\u001B[49m\u001B[43m,\u001B[49m\n\u001B[0;32m   3556\u001B[0m \u001B[43m    \u001B[49m\u001B[43merrors\u001B[49m\u001B[38;5;241;43m=\u001B[39;49m\u001B[43merrors\u001B[49m\u001B[43m,\u001B[49m\n\u001B[0;32m   3557\u001B[0m \u001B[43m    \u001B[49m\u001B[43mcompression\u001B[49m\u001B[38;5;241;43m=\u001B[39;49m\u001B[43mcompression\u001B[49m\u001B[43m,\u001B[49m\n\u001B[0;32m   3558\u001B[0m \u001B[43m    \u001B[49m\u001B[43mquoting\u001B[49m\u001B[38;5;241;43m=\u001B[39;49m\u001B[43mquoting\u001B[49m\u001B[43m,\u001B[49m\n\u001B[0;32m   3559\u001B[0m \u001B[43m    \u001B[49m\u001B[43mcolumns\u001B[49m\u001B[38;5;241;43m=\u001B[39;49m\u001B[43mcolumns\u001B[49m\u001B[43m,\u001B[49m\n\u001B[0;32m   3560\u001B[0m \u001B[43m    \u001B[49m\u001B[43mindex_label\u001B[49m\u001B[38;5;241;43m=\u001B[39;49m\u001B[43mindex_label\u001B[49m\u001B[43m,\u001B[49m\n\u001B[0;32m   3561\u001B[0m \u001B[43m    \u001B[49m\u001B[43mmode\u001B[49m\u001B[38;5;241;43m=\u001B[39;49m\u001B[43mmode\u001B[49m\u001B[43m,\u001B[49m\n\u001B[0;32m   3562\u001B[0m \u001B[43m    \u001B[49m\u001B[43mchunksize\u001B[49m\u001B[38;5;241;43m=\u001B[39;49m\u001B[43mchunksize\u001B[49m\u001B[43m,\u001B[49m\n\u001B[0;32m   3563\u001B[0m \u001B[43m    \u001B[49m\u001B[43mquotechar\u001B[49m\u001B[38;5;241;43m=\u001B[39;49m\u001B[43mquotechar\u001B[49m\u001B[43m,\u001B[49m\n\u001B[0;32m   3564\u001B[0m \u001B[43m    \u001B[49m\u001B[43mdate_format\u001B[49m\u001B[38;5;241;43m=\u001B[39;49m\u001B[43mdate_format\u001B[49m\u001B[43m,\u001B[49m\n\u001B[0;32m   3565\u001B[0m \u001B[43m    \u001B[49m\u001B[43mdoublequote\u001B[49m\u001B[38;5;241;43m=\u001B[39;49m\u001B[43mdoublequote\u001B[49m\u001B[43m,\u001B[49m\n\u001B[0;32m   3566\u001B[0m \u001B[43m    \u001B[49m\u001B[43mescapechar\u001B[49m\u001B[38;5;241;43m=\u001B[39;49m\u001B[43mescapechar\u001B[49m\u001B[43m,\u001B[49m\n\u001B[0;32m   3567\u001B[0m \u001B[43m    \u001B[49m\u001B[43mstorage_options\u001B[49m\u001B[38;5;241;43m=\u001B[39;49m\u001B[43mstorage_options\u001B[49m\u001B[43m,\u001B[49m\n\u001B[0;32m   3568\u001B[0m \u001B[43m\u001B[49m\u001B[43m)\u001B[49m\n",
      "File \u001B[1;32m~\\PycharmProjects\\data_classes\\dtan\\lib\\site-packages\\pandas\\io\\formats\\format.py:1180\u001B[0m, in \u001B[0;36mDataFrameRenderer.to_csv\u001B[1;34m(self, path_or_buf, encoding, sep, columns, index_label, mode, compression, quoting, quotechar, line_terminator, chunksize, date_format, doublequote, escapechar, errors, storage_options)\u001B[0m\n\u001B[0;32m   1159\u001B[0m     created_buffer \u001B[38;5;241m=\u001B[39m \u001B[38;5;28;01mFalse\u001B[39;00m\n\u001B[0;32m   1161\u001B[0m csv_formatter \u001B[38;5;241m=\u001B[39m CSVFormatter(\n\u001B[0;32m   1162\u001B[0m     path_or_buf\u001B[38;5;241m=\u001B[39mpath_or_buf,\n\u001B[0;32m   1163\u001B[0m     line_terminator\u001B[38;5;241m=\u001B[39mline_terminator,\n\u001B[1;32m   (...)\u001B[0m\n\u001B[0;32m   1178\u001B[0m     formatter\u001B[38;5;241m=\u001B[39m\u001B[38;5;28mself\u001B[39m\u001B[38;5;241m.\u001B[39mfmt,\n\u001B[0;32m   1179\u001B[0m )\n\u001B[1;32m-> 1180\u001B[0m \u001B[43mcsv_formatter\u001B[49m\u001B[38;5;241;43m.\u001B[39;49m\u001B[43msave\u001B[49m\u001B[43m(\u001B[49m\u001B[43m)\u001B[49m\n\u001B[0;32m   1182\u001B[0m \u001B[38;5;28;01mif\u001B[39;00m created_buffer:\n\u001B[0;32m   1183\u001B[0m     \u001B[38;5;28;01massert\u001B[39;00m \u001B[38;5;28misinstance\u001B[39m(path_or_buf, StringIO)\n",
      "File \u001B[1;32m~\\PycharmProjects\\data_classes\\dtan\\lib\\site-packages\\pandas\\io\\formats\\csvs.py:241\u001B[0m, in \u001B[0;36mCSVFormatter.save\u001B[1;34m(self)\u001B[0m\n\u001B[0;32m    237\u001B[0m \u001B[38;5;124;03m\"\"\"\u001B[39;00m\n\u001B[0;32m    238\u001B[0m \u001B[38;5;124;03mCreate the writer & save.\u001B[39;00m\n\u001B[0;32m    239\u001B[0m \u001B[38;5;124;03m\"\"\"\u001B[39;00m\n\u001B[0;32m    240\u001B[0m \u001B[38;5;66;03m# apply compression and byte/text conversion\u001B[39;00m\n\u001B[1;32m--> 241\u001B[0m \u001B[38;5;28;01mwith\u001B[39;00m \u001B[43mget_handle\u001B[49m\u001B[43m(\u001B[49m\n\u001B[0;32m    242\u001B[0m \u001B[43m    \u001B[49m\u001B[38;5;28;43mself\u001B[39;49m\u001B[38;5;241;43m.\u001B[39;49m\u001B[43mfilepath_or_buffer\u001B[49m\u001B[43m,\u001B[49m\n\u001B[0;32m    243\u001B[0m \u001B[43m    \u001B[49m\u001B[38;5;28;43mself\u001B[39;49m\u001B[38;5;241;43m.\u001B[39;49m\u001B[43mmode\u001B[49m\u001B[43m,\u001B[49m\n\u001B[0;32m    244\u001B[0m \u001B[43m    \u001B[49m\u001B[43mencoding\u001B[49m\u001B[38;5;241;43m=\u001B[39;49m\u001B[38;5;28;43mself\u001B[39;49m\u001B[38;5;241;43m.\u001B[39;49m\u001B[43mencoding\u001B[49m\u001B[43m,\u001B[49m\n\u001B[0;32m    245\u001B[0m \u001B[43m    \u001B[49m\u001B[43merrors\u001B[49m\u001B[38;5;241;43m=\u001B[39;49m\u001B[38;5;28;43mself\u001B[39;49m\u001B[38;5;241;43m.\u001B[39;49m\u001B[43merrors\u001B[49m\u001B[43m,\u001B[49m\n\u001B[0;32m    246\u001B[0m \u001B[43m    \u001B[49m\u001B[43mcompression\u001B[49m\u001B[38;5;241;43m=\u001B[39;49m\u001B[38;5;28;43mself\u001B[39;49m\u001B[38;5;241;43m.\u001B[39;49m\u001B[43mcompression\u001B[49m\u001B[43m,\u001B[49m\n\u001B[0;32m    247\u001B[0m \u001B[43m    \u001B[49m\u001B[43mstorage_options\u001B[49m\u001B[38;5;241;43m=\u001B[39;49m\u001B[38;5;28;43mself\u001B[39;49m\u001B[38;5;241;43m.\u001B[39;49m\u001B[43mstorage_options\u001B[49m\u001B[43m,\u001B[49m\n\u001B[0;32m    248\u001B[0m \u001B[43m\u001B[49m\u001B[43m)\u001B[49m \u001B[38;5;28;01mas\u001B[39;00m handles:\n\u001B[0;32m    249\u001B[0m \n\u001B[0;32m    250\u001B[0m     \u001B[38;5;66;03m# Note: self.encoding is irrelevant here\u001B[39;00m\n\u001B[0;32m    251\u001B[0m     \u001B[38;5;28mself\u001B[39m\u001B[38;5;241m.\u001B[39mwriter \u001B[38;5;241m=\u001B[39m csvlib\u001B[38;5;241m.\u001B[39mwriter(\n\u001B[0;32m    252\u001B[0m         handles\u001B[38;5;241m.\u001B[39mhandle,\n\u001B[0;32m    253\u001B[0m         lineterminator\u001B[38;5;241m=\u001B[39m\u001B[38;5;28mself\u001B[39m\u001B[38;5;241m.\u001B[39mline_terminator,\n\u001B[1;32m   (...)\u001B[0m\n\u001B[0;32m    258\u001B[0m         quotechar\u001B[38;5;241m=\u001B[39m\u001B[38;5;28mself\u001B[39m\u001B[38;5;241m.\u001B[39mquotechar,\n\u001B[0;32m    259\u001B[0m     )\n\u001B[0;32m    261\u001B[0m     \u001B[38;5;28mself\u001B[39m\u001B[38;5;241m.\u001B[39m_save()\n",
      "File \u001B[1;32m~\\PycharmProjects\\data_classes\\dtan\\lib\\site-packages\\pandas\\io\\common.py:789\u001B[0m, in \u001B[0;36mget_handle\u001B[1;34m(path_or_buf, mode, encoding, compression, memory_map, is_text, errors, storage_options)\u001B[0m\n\u001B[0;32m    784\u001B[0m \u001B[38;5;28;01melif\u001B[39;00m \u001B[38;5;28misinstance\u001B[39m(handle, \u001B[38;5;28mstr\u001B[39m):\n\u001B[0;32m    785\u001B[0m     \u001B[38;5;66;03m# Check whether the filename is to be opened in binary mode.\u001B[39;00m\n\u001B[0;32m    786\u001B[0m     \u001B[38;5;66;03m# Binary mode does not support 'encoding' and 'newline'.\u001B[39;00m\n\u001B[0;32m    787\u001B[0m     \u001B[38;5;28;01mif\u001B[39;00m ioargs\u001B[38;5;241m.\u001B[39mencoding \u001B[38;5;129;01mand\u001B[39;00m \u001B[38;5;124m\"\u001B[39m\u001B[38;5;124mb\u001B[39m\u001B[38;5;124m\"\u001B[39m \u001B[38;5;129;01mnot\u001B[39;00m \u001B[38;5;129;01min\u001B[39;00m ioargs\u001B[38;5;241m.\u001B[39mmode:\n\u001B[0;32m    788\u001B[0m         \u001B[38;5;66;03m# Encoding\u001B[39;00m\n\u001B[1;32m--> 789\u001B[0m         handle \u001B[38;5;241m=\u001B[39m \u001B[38;5;28;43mopen\u001B[39;49m\u001B[43m(\u001B[49m\n\u001B[0;32m    790\u001B[0m \u001B[43m            \u001B[49m\u001B[43mhandle\u001B[49m\u001B[43m,\u001B[49m\n\u001B[0;32m    791\u001B[0m \u001B[43m            \u001B[49m\u001B[43mioargs\u001B[49m\u001B[38;5;241;43m.\u001B[39;49m\u001B[43mmode\u001B[49m\u001B[43m,\u001B[49m\n\u001B[0;32m    792\u001B[0m \u001B[43m            \u001B[49m\u001B[43mencoding\u001B[49m\u001B[38;5;241;43m=\u001B[39;49m\u001B[43mioargs\u001B[49m\u001B[38;5;241;43m.\u001B[39;49m\u001B[43mencoding\u001B[49m\u001B[43m,\u001B[49m\n\u001B[0;32m    793\u001B[0m \u001B[43m            \u001B[49m\u001B[43merrors\u001B[49m\u001B[38;5;241;43m=\u001B[39;49m\u001B[43merrors\u001B[49m\u001B[43m,\u001B[49m\n\u001B[0;32m    794\u001B[0m \u001B[43m            \u001B[49m\u001B[43mnewline\u001B[49m\u001B[38;5;241;43m=\u001B[39;49m\u001B[38;5;124;43m\"\u001B[39;49m\u001B[38;5;124;43m\"\u001B[39;49m\u001B[43m,\u001B[49m\n\u001B[0;32m    795\u001B[0m \u001B[43m        \u001B[49m\u001B[43m)\u001B[49m\n\u001B[0;32m    796\u001B[0m     \u001B[38;5;28;01melse\u001B[39;00m:\n\u001B[0;32m    797\u001B[0m         \u001B[38;5;66;03m# Binary mode\u001B[39;00m\n\u001B[0;32m    798\u001B[0m         handle \u001B[38;5;241m=\u001B[39m \u001B[38;5;28mopen\u001B[39m(handle, ioargs\u001B[38;5;241m.\u001B[39mmode)\n",
      "\u001B[1;31mPermissionError\u001B[0m: [Errno 13] Permission denied: 'output.csv'"
     ]
    }
   ],
   "source": [
    "df.to_csv('output.csv')"
   ],
   "metadata": {
    "collapsed": false,
    "pycharm": {
     "name": "#%%\n"
    }
   }
  }
 ],
 "metadata": {
  "kernelspec": {
   "display_name": "Python 3 (ipykernel)",
   "language": "python",
   "name": "python3"
  },
  "language_info": {
   "codemirror_mode": {
    "name": "ipython",
    "version": 3
   },
   "file_extension": ".py",
   "mimetype": "text/x-python",
   "name": "python",
   "nbconvert_exporter": "python",
   "pygments_lexer": "ipython3",
   "version": "3.9.12"
  }
 },
 "nbformat": 4,
 "nbformat_minor": 5
}