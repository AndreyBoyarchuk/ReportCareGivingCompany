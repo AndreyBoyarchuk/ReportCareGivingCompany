{
 "cells": [
  {
   "cell_type": "code",
   "execution_count": 2,
   "id": "75da88ed",
   "metadata": {
    "pycharm": {
     "name": "#%%\n"
    }
   },
   "outputs": [],
   "source": [
    "import pandas as pd\n",
    "import datetime \n",
    "import numpy as np\n",
    "import math"
   ]
  },
  {
   "cell_type": "code",
   "execution_count": 3,
   "id": "4daab5f4",
   "metadata": {
    "pycharm": {
     "name": "#%%\n"
    }
   },
   "outputs": [],
   "source": [
    "df=pd.read_csv('inputreport.csv')\n"
   ]
  },
  {
   "cell_type": "code",
   "execution_count": 4,
   "id": "5e8193c4",
   "metadata": {
    "pycharm": {
     "name": "#%%\n"
    }
   },
   "outputs": [],
   "source": [
    "my_list = df.columns.values.tolist()"
   ]
  },
  {
   "cell_type": "code",
   "execution_count": 5,
   "outputs": [
    {
     "data": {
      "text/plain": "dtype('<M8[ns]')"
     },
     "execution_count": 5,
     "metadata": {},
     "output_type": "execute_result"
    }
   ],
   "source": [
    "df['Scheduled Visit End'] = df['Scheduled Visit End'].astype('datetime64[ns]')\n",
    "df['Scheduled Visit Start'] = df['Scheduled Visit Start'].astype('datetime64[ns]')\n",
    "df[\"Scheduled Visit Start\"].dtype"
   ],
   "metadata": {
    "collapsed": false,
    "pycharm": {
     "name": "#%%\n"
    }
   }
  },
  {
   "cell_type": "code",
   "execution_count": 6,
   "outputs": [
    {
     "data": {
      "text/plain": "dtype('<M8[ns]')"
     },
     "execution_count": 6,
     "metadata": {},
     "output_type": "execute_result"
    }
   ],
   "source": [
    "df['SVS'] = df['Scheduled Visit Start']\n",
    "df['SVE'] = df['Scheduled Visit End']\n",
    "df[\"SVS\"].dtype"
   ],
   "metadata": {
    "collapsed": false,
    "pycharm": {
     "name": "#%%\n"
    }
   }
  },
  {
   "cell_type": "code",
   "execution_count": 7,
   "outputs": [],
   "source": [
    "df=df.sort_values(by=['Scheduled Visit Start','Participant First Name'])"
   ],
   "metadata": {
    "collapsed": false,
    "pycharm": {
     "name": "#%%\n"
    }
   }
  },
  {
   "cell_type": "code",
   "execution_count": 8,
   "outputs": [],
   "source": [
    "df['DayOftheWeek'] = df['Scheduled Visit Start'].dt.dayofweek\n",
    "df[\"WeekOfyear\"] = df['Scheduled Visit Start'].dt.isocalendar().week\n",
    "df[\"Day\"] = df['Scheduled Visit Start'].dt.day\n",
    "df['Month'] = df['Scheduled Visit Start'].dt.month\n",
    "df['Year'] = df['Scheduled Visit Start'].dt.year\n"
   ],
   "metadata": {
    "collapsed": false,
    "pycharm": {
     "name": "#%%\n"
    }
   }
  },
  {
   "cell_type": "code",
   "execution_count": 9,
   "outputs": [],
   "source": [
    "df['hourDigit'] = df['Scheduled Visit Start'].dt.hour\n",
    "df['Actual Visit Start'] = df['Actual Visit Start'].astype('datetime64[ns]')\n",
    "df['Actual Visit End'] = df['Actual Visit End'].astype('datetime64[ns]')\n",
    "df['SchedMin']=df['Scheduled Visit End']-df['Scheduled Visit Start']\n",
    "df[\"SchedMin\"] = df[\"SchedMin\"].to_numpy()/np.timedelta64(1, 'm')\n",
    "df['AcctMIn']=df['Actual Visit End']-df['Actual Visit Start']\n",
    "df['AcctMIn'] = df['AcctMIn'].to_numpy()/np.timedelta64(1, 'm')\n",
    "df['StartDif']=df['Actual Visit Start']-df['Scheduled Visit Start']\n",
    "df[\"StartDif\"] = df[\"StartDif\"].to_numpy()/np.timedelta64(1, 'm')\n",
    "df['EndDif']=(df['Actual Visit End']-df['Scheduled Visit End'])\n",
    "df[\"EndDif\"] = df[\"EndDif\"].to_numpy()/np.timedelta64(1, 'm')\n",
    "df['HoursDif']=(df['AcctMIn']-df['SchedMin'])/60.00\n",
    "df['Untis']=df['SchedMin']/15\n",
    "df['Difference']=df['AcctMIn']-df['SchedMin']"
   ],
   "metadata": {
    "collapsed": false,
    "pycharm": {
     "name": "#%%\n"
    }
   }
  },
  {
   "cell_type": "code",
   "execution_count": 10,
   "outputs": [],
   "source": [
    "df=df.sort_values(by=['Scheduled Visit Start'])\n",
    "df['Code']=+df['hourDigit'].map(str)+\"_\"+df['Employee First Name'].map(str)+\"_\"+df['Participant First Name'].map(str)\n",
    "df=df.sort_values(by=['Code','Scheduled Visit Start'])"
   ],
   "metadata": {
    "collapsed": false,
    "pycharm": {
     "name": "#%%\n"
    }
   }
  },
  {
   "cell_type": "code",
   "execution_count": 11,
   "outputs": [],
   "source": [
    "df['Timelaps']=df[\"Scheduled Visit Start\"].diff()\n",
    "df['Timelaps'].diff().apply(lambda x: x/np.timedelta64(1, 'D')).fillna(0).astype('int64')\n",
    "df['Timelaps'] = df['Timelaps'].to_numpy()/np.timedelta64(1, 'D')\n",
    "def truncf(num):\n",
    "    if num == None:\n",
    "        num1=0\n",
    "    else:\n",
    "        num1=float(num)\n",
    "    return num1\n",
    "df['Timelaps'] = df['Timelaps'].apply(truncf).fillna(0)\n",
    "def trunci(num):\n",
    "    num1=int(num)\n",
    "    return num1\n",
    "df['Timelaps'] = df['Timelaps'].apply(trunci)\n",
    "df.loc[df['Timelaps'] <=1,\"Split\"]=0\n",
    "df.loc[df['Timelaps'] >1,\"Split\"]=1\n",
    "df[\"Split\"]=df[\"Split\"].astype(int)\n",
    "df['split_csum'] = df.groupby(['WeekOfyear'])['Split'].cumsum()"
   ],
   "metadata": {
    "collapsed": false,
    "pycharm": {
     "name": "#%%\n"
    }
   }
  },
  {
   "cell_type": "code",
   "execution_count": 12,
   "outputs": [],
   "source": [
    "df['Count']=1"
   ],
   "metadata": {
    "collapsed": false,
    "pycharm": {
     "name": "#%%\n"
    }
   }
  },
  {
   "cell_type": "code",
   "execution_count": 13,
   "outputs": [],
   "source": [
    "df['Grouping']=df[\"Month\"].map(str)+\"_\"+df[\"WeekOfyear\"].map(str)+\"_\"+df[\"split_csum\"].map(str)"
   ],
   "metadata": {
    "collapsed": false,
    "pycharm": {
     "name": "#%%\n"
    }
   }
  },
  {
   "cell_type": "code",
   "execution_count": 14,
   "outputs": [],
   "source": [
    "df['MaxSVS'] = df.groupby('Grouping')[\"Day\"].transform('max')\n",
    "df['MinSVS'] = df.groupby('Grouping')[\"Day\"].transform('min')"
   ],
   "metadata": {
    "collapsed": false,
    "pycharm": {
     "name": "#%%\n"
    }
   }
  },
  {
   "cell_type": "code",
   "execution_count": 15,
   "outputs": [],
   "source": [
    "df1=df"
   ],
   "metadata": {
    "collapsed": false,
    "pycharm": {
     "name": "#%%\n"
    }
   }
  },
  {
   "cell_type": "code",
   "execution_count": 16,
   "outputs": [],
   "source": [
    "df['StartDate']=df[\"Month\"].map(str)+\"/\"+df[\"MinSVS\"].map(str)+\"/\"+df[\"Year\"].map(str)\n",
    "df['EndDate']=df[\"Month\"].map(str)+\"/\"+df[\"MaxSVS\"].map(str)+\"/\"+df[\"Year\"].map(str)"
   ],
   "metadata": {
    "collapsed": false,
    "pycharm": {
     "name": "#%%\n"
    }
   }
  },
  {
   "cell_type": "code",
   "execution_count": 17,
   "outputs": [
    {
     "data": {
      "text/plain": "     index     Code_Count Grouping_Count StartDate_Count EndDate_Count  \\\n0        0  13_John_Smith        11_45_0      11/13/2021    11/14/2021   \n1        1  13_John_Smith        12_48_1       12/4/2021     12/4/2021   \n2        2  13_John_Smith        12_49_1      12/11/2021    12/12/2021   \n3        3  13_John_Smith        12_50_1      12/18/2021    12/19/2021   \n4        4  13_John_Smith        12_51_1      12/25/2021    12/25/2021   \n..     ...            ...            ...             ...           ...   \n103    103   8_John_Smith         4_13_4        4/2/2022      4/3/2022   \n104    104   8_John_Smith         4_14_4        4/9/2022     4/10/2022   \n105    105   8_John_Smith         4_15_4       4/16/2022     4/17/2022   \n106    106   8_John_Smith         4_16_4       4/23/2022     4/24/2022   \n107    107   8_John_Smith         4_17_4       4/30/2022     4/30/2022   \n\n     Notes_Count  DayOftheWeek_Count  WeekOfyear_Count  Day_Count  \\\n0            0.0                  11                90         27   \n1            0.0                   5                48          4   \n2            0.0                  11                98         23   \n3            0.0                  11               100         37   \n4            0.0                   5                51         25   \n..           ...                 ...               ...        ...   \n103          0.0                  11                26          5   \n104          0.0                  11                28         19   \n105          0.0                  11                30         33   \n106          0.0                  11                32         47   \n107          0.0                   5                17         30   \n\n     Month_Count  ...  EndDif_Count  HoursDif_Count  Untis_Count  \\\n0             22  ...     61.266667        1.010556         60.0   \n1             12  ...      0.533333        0.004167         32.0   \n2             24  ...     60.566667        0.996389         60.0   \n3             24  ...    510.966667        8.196111         60.0   \n4             12  ...      0.466667       -0.010833         32.0   \n..           ...  ...           ...             ...          ...   \n103            8  ...   1150.683333       19.130278         40.0   \n104            8  ...      1.700000        0.021944         40.0   \n105            8  ...      2.450000        0.014722         40.0   \n106            8  ...    -18.216667        0.576389         40.0   \n107            4  ...      0.700000       -0.000278         20.0   \n\n     Difference_Count  Timelaps_Count  Split_Count  split_csum_Count  \\\n0           60.633333               1            0                 0   \n1            0.250000              20            1                 1   \n2           59.783333               8            1                 2   \n3          491.766667               7            1                 2   \n4           -0.650000               6            1                 1   \n..                ...             ...          ...               ...   \n103       1147.816667               7            1                 8   \n104          1.316667               7            1                 8   \n105          0.883333               7            1                 8   \n106         34.583333               7            1                 8   \n107         -0.016667               6            1                 4   \n\n     Count_Count  MaxSVS_Count  MinSVS_Count  \n0              2            28            26  \n1              1             4             4  \n2              2            24            22  \n3              2            38            36  \n4              1            25            25  \n..           ...           ...           ...  \n103            2             6             4  \n104            2            20            18  \n105            2            34            32  \n106            2            48            46  \n107            1            30            30  \n\n[108 rows x 25 columns]",
      "text/html": "<div>\n<style scoped>\n    .dataframe tbody tr th:only-of-type {\n        vertical-align: middle;\n    }\n\n    .dataframe tbody tr th {\n        vertical-align: top;\n    }\n\n    .dataframe thead th {\n        text-align: right;\n    }\n</style>\n<table border=\"1\" class=\"dataframe\">\n  <thead>\n    <tr style=\"text-align: right;\">\n      <th></th>\n      <th>index</th>\n      <th>Code_Count</th>\n      <th>Grouping_Count</th>\n      <th>StartDate_Count</th>\n      <th>EndDate_Count</th>\n      <th>Notes_Count</th>\n      <th>DayOftheWeek_Count</th>\n      <th>WeekOfyear_Count</th>\n      <th>Day_Count</th>\n      <th>Month_Count</th>\n      <th>...</th>\n      <th>EndDif_Count</th>\n      <th>HoursDif_Count</th>\n      <th>Untis_Count</th>\n      <th>Difference_Count</th>\n      <th>Timelaps_Count</th>\n      <th>Split_Count</th>\n      <th>split_csum_Count</th>\n      <th>Count_Count</th>\n      <th>MaxSVS_Count</th>\n      <th>MinSVS_Count</th>\n    </tr>\n  </thead>\n  <tbody>\n    <tr>\n      <th>0</th>\n      <td>0</td>\n      <td>13_John_Smith</td>\n      <td>11_45_0</td>\n      <td>11/13/2021</td>\n      <td>11/14/2021</td>\n      <td>0.0</td>\n      <td>11</td>\n      <td>90</td>\n      <td>27</td>\n      <td>22</td>\n      <td>...</td>\n      <td>61.266667</td>\n      <td>1.010556</td>\n      <td>60.0</td>\n      <td>60.633333</td>\n      <td>1</td>\n      <td>0</td>\n      <td>0</td>\n      <td>2</td>\n      <td>28</td>\n      <td>26</td>\n    </tr>\n    <tr>\n      <th>1</th>\n      <td>1</td>\n      <td>13_John_Smith</td>\n      <td>12_48_1</td>\n      <td>12/4/2021</td>\n      <td>12/4/2021</td>\n      <td>0.0</td>\n      <td>5</td>\n      <td>48</td>\n      <td>4</td>\n      <td>12</td>\n      <td>...</td>\n      <td>0.533333</td>\n      <td>0.004167</td>\n      <td>32.0</td>\n      <td>0.250000</td>\n      <td>20</td>\n      <td>1</td>\n      <td>1</td>\n      <td>1</td>\n      <td>4</td>\n      <td>4</td>\n    </tr>\n    <tr>\n      <th>2</th>\n      <td>2</td>\n      <td>13_John_Smith</td>\n      <td>12_49_1</td>\n      <td>12/11/2021</td>\n      <td>12/12/2021</td>\n      <td>0.0</td>\n      <td>11</td>\n      <td>98</td>\n      <td>23</td>\n      <td>24</td>\n      <td>...</td>\n      <td>60.566667</td>\n      <td>0.996389</td>\n      <td>60.0</td>\n      <td>59.783333</td>\n      <td>8</td>\n      <td>1</td>\n      <td>2</td>\n      <td>2</td>\n      <td>24</td>\n      <td>22</td>\n    </tr>\n    <tr>\n      <th>3</th>\n      <td>3</td>\n      <td>13_John_Smith</td>\n      <td>12_50_1</td>\n      <td>12/18/2021</td>\n      <td>12/19/2021</td>\n      <td>0.0</td>\n      <td>11</td>\n      <td>100</td>\n      <td>37</td>\n      <td>24</td>\n      <td>...</td>\n      <td>510.966667</td>\n      <td>8.196111</td>\n      <td>60.0</td>\n      <td>491.766667</td>\n      <td>7</td>\n      <td>1</td>\n      <td>2</td>\n      <td>2</td>\n      <td>38</td>\n      <td>36</td>\n    </tr>\n    <tr>\n      <th>4</th>\n      <td>4</td>\n      <td>13_John_Smith</td>\n      <td>12_51_1</td>\n      <td>12/25/2021</td>\n      <td>12/25/2021</td>\n      <td>0.0</td>\n      <td>5</td>\n      <td>51</td>\n      <td>25</td>\n      <td>12</td>\n      <td>...</td>\n      <td>0.466667</td>\n      <td>-0.010833</td>\n      <td>32.0</td>\n      <td>-0.650000</td>\n      <td>6</td>\n      <td>1</td>\n      <td>1</td>\n      <td>1</td>\n      <td>25</td>\n      <td>25</td>\n    </tr>\n    <tr>\n      <th>...</th>\n      <td>...</td>\n      <td>...</td>\n      <td>...</td>\n      <td>...</td>\n      <td>...</td>\n      <td>...</td>\n      <td>...</td>\n      <td>...</td>\n      <td>...</td>\n      <td>...</td>\n      <td>...</td>\n      <td>...</td>\n      <td>...</td>\n      <td>...</td>\n      <td>...</td>\n      <td>...</td>\n      <td>...</td>\n      <td>...</td>\n      <td>...</td>\n      <td>...</td>\n      <td>...</td>\n    </tr>\n    <tr>\n      <th>103</th>\n      <td>103</td>\n      <td>8_John_Smith</td>\n      <td>4_13_4</td>\n      <td>4/2/2022</td>\n      <td>4/3/2022</td>\n      <td>0.0</td>\n      <td>11</td>\n      <td>26</td>\n      <td>5</td>\n      <td>8</td>\n      <td>...</td>\n      <td>1150.683333</td>\n      <td>19.130278</td>\n      <td>40.0</td>\n      <td>1147.816667</td>\n      <td>7</td>\n      <td>1</td>\n      <td>8</td>\n      <td>2</td>\n      <td>6</td>\n      <td>4</td>\n    </tr>\n    <tr>\n      <th>104</th>\n      <td>104</td>\n      <td>8_John_Smith</td>\n      <td>4_14_4</td>\n      <td>4/9/2022</td>\n      <td>4/10/2022</td>\n      <td>0.0</td>\n      <td>11</td>\n      <td>28</td>\n      <td>19</td>\n      <td>8</td>\n      <td>...</td>\n      <td>1.700000</td>\n      <td>0.021944</td>\n      <td>40.0</td>\n      <td>1.316667</td>\n      <td>7</td>\n      <td>1</td>\n      <td>8</td>\n      <td>2</td>\n      <td>20</td>\n      <td>18</td>\n    </tr>\n    <tr>\n      <th>105</th>\n      <td>105</td>\n      <td>8_John_Smith</td>\n      <td>4_15_4</td>\n      <td>4/16/2022</td>\n      <td>4/17/2022</td>\n      <td>0.0</td>\n      <td>11</td>\n      <td>30</td>\n      <td>33</td>\n      <td>8</td>\n      <td>...</td>\n      <td>2.450000</td>\n      <td>0.014722</td>\n      <td>40.0</td>\n      <td>0.883333</td>\n      <td>7</td>\n      <td>1</td>\n      <td>8</td>\n      <td>2</td>\n      <td>34</td>\n      <td>32</td>\n    </tr>\n    <tr>\n      <th>106</th>\n      <td>106</td>\n      <td>8_John_Smith</td>\n      <td>4_16_4</td>\n      <td>4/23/2022</td>\n      <td>4/24/2022</td>\n      <td>0.0</td>\n      <td>11</td>\n      <td>32</td>\n      <td>47</td>\n      <td>8</td>\n      <td>...</td>\n      <td>-18.216667</td>\n      <td>0.576389</td>\n      <td>40.0</td>\n      <td>34.583333</td>\n      <td>7</td>\n      <td>1</td>\n      <td>8</td>\n      <td>2</td>\n      <td>48</td>\n      <td>46</td>\n    </tr>\n    <tr>\n      <th>107</th>\n      <td>107</td>\n      <td>8_John_Smith</td>\n      <td>4_17_4</td>\n      <td>4/30/2022</td>\n      <td>4/30/2022</td>\n      <td>0.0</td>\n      <td>5</td>\n      <td>17</td>\n      <td>30</td>\n      <td>4</td>\n      <td>...</td>\n      <td>0.700000</td>\n      <td>-0.000278</td>\n      <td>20.0</td>\n      <td>-0.016667</td>\n      <td>6</td>\n      <td>1</td>\n      <td>4</td>\n      <td>1</td>\n      <td>30</td>\n      <td>30</td>\n    </tr>\n  </tbody>\n</table>\n<p>108 rows × 25 columns</p>\n</div>"
     },
     "execution_count": 17,
     "metadata": {},
     "output_type": "execute_result"
    }
   ],
   "source": [
    "g1=df1.groupby(['Code','Grouping','StartDate','EndDate'],as_index=False).sum()\n",
    "g1.add_suffix('_Count').reset_index()"
   ],
   "metadata": {
    "collapsed": false,
    "pycharm": {
     "name": "#%%\n"
    }
   }
  },
  {
   "cell_type": "code",
   "execution_count": 18,
   "outputs": [
    {
     "data": {
      "text/plain": "              Code   StartDate     EndDate  Untis\n0    13_John_Smith  11/13/2021  11/14/2021   60.0\n1    13_John_Smith   12/4/2021   12/4/2021   32.0\n2    13_John_Smith  12/11/2021  12/12/2021   60.0\n3    13_John_Smith  12/18/2021  12/19/2021   60.0\n4    13_John_Smith  12/25/2021  12/25/2021   32.0\n..             ...         ...         ...    ...\n103   8_John_Smith    4/2/2022    4/3/2022   40.0\n104   8_John_Smith    4/9/2022   4/10/2022   40.0\n105   8_John_Smith   4/16/2022   4/17/2022   40.0\n106   8_John_Smith   4/23/2022   4/24/2022   40.0\n107   8_John_Smith   4/30/2022   4/30/2022   20.0\n\n[108 rows x 4 columns]",
      "text/html": "<div>\n<style scoped>\n    .dataframe tbody tr th:only-of-type {\n        vertical-align: middle;\n    }\n\n    .dataframe tbody tr th {\n        vertical-align: top;\n    }\n\n    .dataframe thead th {\n        text-align: right;\n    }\n</style>\n<table border=\"1\" class=\"dataframe\">\n  <thead>\n    <tr style=\"text-align: right;\">\n      <th></th>\n      <th>Code</th>\n      <th>StartDate</th>\n      <th>EndDate</th>\n      <th>Untis</th>\n    </tr>\n  </thead>\n  <tbody>\n    <tr>\n      <th>0</th>\n      <td>13_John_Smith</td>\n      <td>11/13/2021</td>\n      <td>11/14/2021</td>\n      <td>60.0</td>\n    </tr>\n    <tr>\n      <th>1</th>\n      <td>13_John_Smith</td>\n      <td>12/4/2021</td>\n      <td>12/4/2021</td>\n      <td>32.0</td>\n    </tr>\n    <tr>\n      <th>2</th>\n      <td>13_John_Smith</td>\n      <td>12/11/2021</td>\n      <td>12/12/2021</td>\n      <td>60.0</td>\n    </tr>\n    <tr>\n      <th>3</th>\n      <td>13_John_Smith</td>\n      <td>12/18/2021</td>\n      <td>12/19/2021</td>\n      <td>60.0</td>\n    </tr>\n    <tr>\n      <th>4</th>\n      <td>13_John_Smith</td>\n      <td>12/25/2021</td>\n      <td>12/25/2021</td>\n      <td>32.0</td>\n    </tr>\n    <tr>\n      <th>...</th>\n      <td>...</td>\n      <td>...</td>\n      <td>...</td>\n      <td>...</td>\n    </tr>\n    <tr>\n      <th>103</th>\n      <td>8_John_Smith</td>\n      <td>4/2/2022</td>\n      <td>4/3/2022</td>\n      <td>40.0</td>\n    </tr>\n    <tr>\n      <th>104</th>\n      <td>8_John_Smith</td>\n      <td>4/9/2022</td>\n      <td>4/10/2022</td>\n      <td>40.0</td>\n    </tr>\n    <tr>\n      <th>105</th>\n      <td>8_John_Smith</td>\n      <td>4/16/2022</td>\n      <td>4/17/2022</td>\n      <td>40.0</td>\n    </tr>\n    <tr>\n      <th>106</th>\n      <td>8_John_Smith</td>\n      <td>4/23/2022</td>\n      <td>4/24/2022</td>\n      <td>40.0</td>\n    </tr>\n    <tr>\n      <th>107</th>\n      <td>8_John_Smith</td>\n      <td>4/30/2022</td>\n      <td>4/30/2022</td>\n      <td>20.0</td>\n    </tr>\n  </tbody>\n</table>\n<p>108 rows × 4 columns</p>\n</div>"
     },
     "execution_count": 18,
     "metadata": {},
     "output_type": "execute_result"
    }
   ],
   "source": [
    "g2=g1[['Code','StartDate','EndDate','Untis']]\n",
    "g2"
   ],
   "metadata": {
    "collapsed": false,
    "pycharm": {
     "name": "#%%\n"
    }
   }
  },
  {
   "cell_type": "code",
   "execution_count": 19,
   "outputs": [],
   "source": [
    "g2.to_csv('ouput2.csv')"
   ],
   "metadata": {
    "collapsed": false,
    "pycharm": {
     "name": "#%%\n"
    }
   }
  },
  {
   "cell_type": "code",
   "execution_count": 20,
   "outputs": [],
   "source": [
    "df.to_csv('output.csv')"
   ],
   "metadata": {
    "collapsed": false,
    "pycharm": {
     "name": "#%%\n"
    }
   }
  }
 ],
 "metadata": {
  "kernelspec": {
   "display_name": "Python 3 (ipykernel)",
   "language": "python",
   "name": "python3"
  },
  "language_info": {
   "codemirror_mode": {
    "name": "ipython",
    "version": 3
   },
   "file_extension": ".py",
   "mimetype": "text/x-python",
   "name": "python",
   "nbconvert_exporter": "python",
   "pygments_lexer": "ipython3",
   "version": "3.9.12"
  }
 },
 "nbformat": 4,
 "nbformat_minor": 5
}